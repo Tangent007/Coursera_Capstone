{
 "cells": [
  {
   "cell_type": "markdown",
   "metadata": {},
   "source": [
    "# Section 2: Data\n",
    "<h1><b>Data Description</b></h1>   \n",
    "\n",
    "In this section, I will describe the data used to solve the problem as described previously.\n",
    "\n",
    "As noted below in the Further Development Section, it is possible to attempt quite complex and sophisticated scenarios when approaching this problem. However, given the size of the project and for simplicity only the following scenario will be addressed:\n",
    "<ol>\n",
    "<li>Query the FourSqaure website for the top sites in Chicago\n",
    "<li>Use the FourSquare API to get supplemental geographical data about the top sites\n",
    "<li>Use the FourSquare API to get top restaurent recommendations closest to each of the top site\n",
    "<li>Use open source Chicago Crime data to provide the user with additional crime data\n",
    "</ol>"
   ]
  },
  {
   "cell_type": "code",
   "execution_count": null,
   "metadata": {},
   "outputs": [],
   "source": []
  }
 ],
 "metadata": {
  "kernelspec": {
   "display_name": "Python 3",
   "language": "python",
   "name": "python3"
  },
  "language_info": {
   "codemirror_mode": {
    "name": "ipython",
    "version": 3
   },
   "file_extension": ".py",
   "mimetype": "text/x-python",
   "name": "python",
   "nbconvert_exporter": "python",
   "pygments_lexer": "ipython3",
   "version": "3.7.3"
  }
 },
 "nbformat": 4,
 "nbformat_minor": 2
}
